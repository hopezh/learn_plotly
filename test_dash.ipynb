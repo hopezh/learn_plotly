{
 "cells": [
  {
   "cell_type": "code",
   "execution_count": 2,
   "metadata": {},
   "outputs": [
    {
     "output_type": "stream",
     "name": "stdout",
     "text": "Running on http://127.0.0.1:8050/\nDebugger PIN: 108-761-332\n * Serving Flask app \"__main__\" (lazy loading)\n * Environment: production\n\u001b[31m   WARNING: This is a development server. Do not use it in a production deployment.\u001b[0m\n\u001b[2m   Use a production WSGI server instead.\u001b[0m\n * Debug mode: on\n"
    },
    {
     "output_type": "error",
     "ename": "SystemExit",
     "evalue": "1",
     "traceback": [
      "An exception has occurred, use %tb to see the full traceback.\n",
      "\u001b[0;31mSystemExit\u001b[0m\u001b[0;31m:\u001b[0m 1\n"
     ]
    }
   ],
   "source": [
    "import dash\n",
    "import dash_core_components as dcc\n",
    "import dash_html_components as html\n",
    "\n",
    "ext_stylesheets = ['https://codepen.io/chriddyp/pen/bWLwgP.css']\n",
    "\n",
    "app = dash.Dash(\n",
    "    __name__, \n",
    "    external_stylesheets = ext_stylesheets\n",
    ")\n",
    "\n",
    "app.layout = html.Div(children=[\n",
    "    html.H1(children='Hello World'),\n",
    "    html.Div(children=\n",
    "        '''\n",
    "        Dash, A web application framework for Python\n",
    "        '''), \n",
    "    dcc.Graph(\n",
    "        id='example_graph', \n",
    "        figure={\n",
    "            'data' : [\n",
    "                        {'x' : [1, 2, 3],\n",
    "                        'y' : [4, 1, 2], \n",
    "                        'type' : 'bar',\n",
    "                        'name' : 'SF'}, \n",
    "                        {'x' : [1, 2, 3], \n",
    "                        'y' : [2, 4, 5], \n",
    "                        'type' : 'bar', \n",
    "                        'name' : u'Montreal'}, \n",
    "                    ], \n",
    "            'layout' : {'title' : 'Dash Data Visualization'}\n",
    "        }\n",
    "    )\n",
    "])\n",
    "\n",
    "if __name__ == '__main__':\n",
    "    app.run_server(debug=True)"
   ]
  },
  {
   "cell_type": "code",
   "execution_count": null,
   "metadata": {},
   "outputs": [],
   "source": []
  }
 ],
 "metadata": {
  "language_info": {
   "codemirror_mode": {
    "name": "ipython",
    "version": 3
   },
   "file_extension": ".py",
   "mimetype": "text/x-python",
   "name": "python",
   "nbconvert_exporter": "python",
   "pygments_lexer": "ipython3",
   "version": "3.7.5-final"
  },
  "orig_nbformat": 2,
  "kernelspec": {
   "name": "python37564bit73f8a06c11aa40ba88ad38bbad4e32fb",
   "display_name": "Python 3.7.5 64-bit"
  }
 },
 "nbformat": 4,
 "nbformat_minor": 2
}